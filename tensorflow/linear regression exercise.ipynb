{
 "cells": [
  {
   "cell_type": "code",
   "execution_count": 1,
   "metadata": {
    "collapsed": true
   },
   "outputs": [],
   "source": [
    "import tensorflow as tf\n",
    "import numpy as np"
   ]
  },
  {
   "cell_type": "code",
   "execution_count": 3,
   "metadata": {},
   "outputs": [
    {
     "name": "stdout",
     "output_type": "stream",
     "text": [
      "[-1.   -0.98 -0.96 -0.94 -0.92 -0.9  -0.88 -0.86 -0.84 -0.82 -0.8  -0.78\n -0.76 -0.74 -0.72 -0.7  -0.68 -0.66 -0.64 -0.62 -0.6  -0.58 -0.56 -0.54\n -0.52 -0.5  -0.48 -0.46 -0.44 -0.42 -0.4  -0.38 -0.36 -0.34 -0.32 -0.3\n -0.28 -0.26 -0.24 -0.22 -0.2  -0.18 -0.16 -0.14 -0.12 -0.1  -0.08 -0.06\n -0.04 -0.02  0.    0.02  0.04  0.06  0.08  0.1   0.12  0.14  0.16  0.18\n  0.2   0.22  0.24  0.26  0.28  0.3   0.32  0.34  0.36  0.38  0.4   0.42\n  0.44  0.46  0.48  0.5   0.52  0.54  0.56  0.58  0.6   0.62  0.64  0.66\n  0.68  0.7   0.72  0.74  0.76  0.78  0.8   0.82  0.84  0.86  0.88  0.9\n  0.92  0.94  0.96  0.98  1.  ]\n[-3.51323687 -2.70514007 -2.65227316 -2.51915393 -3.22847138 -2.99027314\n -3.13304399 -2.73327766 -2.62932317 -1.70963378 -2.54891089 -2.51697423\n -2.58014066 -1.78524326 -2.12299936 -1.2701719  -1.74089595 -2.26993884\n -2.24051166 -1.14382611 -1.80879558 -1.20742191 -1.92704867 -1.54511354\n -1.03933048 -1.64896    -1.75922243 -1.16692424 -0.94720949 -1.22267426\n -1.60338678 -0.64245338 -0.9415054  -0.74926873 -1.18051149 -1.55969705\n -0.75679465 -0.79033229 -0.4687146  -0.67239459 -0.69728632 -0.70180898\n -0.20529695 -0.50797711 -0.44099797 -0.15747403  0.22952841 -0.77190929\n -0.02494146 -0.67935928 -0.47313348  0.09108592 -0.02772136 -0.02089123\n  0.03415324 -0.41001903  0.06038643  0.81157249  0.80944818  0.35016423\n  0.75983256  1.57394074  0.5204153   0.89707939  1.22510435  0.94500665\n  0.82849084  0.51318581  0.3808899   1.49469762  1.00743869  1.44342079\n  1.08271848  1.33121665  1.50167591  1.17096342  1.07489379  2.09497001\n  1.86213579  1.67279225  0.92919617  1.67909247  2.27773021  2.01485582\n  2.37108477  2.80093864  3.01135087  2.71579696  2.65559845  2.51176626\n  2.05017507  2.3273396   2.40823772  2.60874495  2.40289234  2.54710679\n  2.63124405  2.63547008  2.85361407  2.84486586  3.14032888]\n"
     ]
    }
   ],
   "source": [
    "# Create some random data\n",
    "trainX = np.linspace(-1, 1, 101)\n",
    "trainY = 3 * trainX + np.random.randn(*trainX.shape) * 0.33\n",
    "print(trainX)\n",
    "print(trainY)"
   ]
  },
  {
   "cell_type": "code",
   "execution_count": 4,
   "metadata": {},
   "outputs": [],
   "source": [
    "X = tf.placeholder(\"float\")\n",
    "Y = tf.placeholder(\"float\")\n"
   ]
  },
  {
   "cell_type": "code",
   "execution_count": 7,
   "metadata": {},
   "outputs": [],
   "source": [
    "w = tf.Variable(0.0, name=\"weights\")\n",
    "y_model = tf.multiply(X, w)\n",
    "\n",
    "cost = (tf.pow(Y-y_model, 2))\n",
    "train_op = tf.train.GradientDescentOptimizer(0.01).minimize(cost)"
   ]
  },
  {
   "cell_type": "code",
   "execution_count": 8,
   "metadata": {},
   "outputs": [
    {
     "name": "stdout",
     "output_type": "stream",
     "text": [
      "1.49222\n2.2399\n2.61453\n2.80224\n2.89629\n2.94341\n"
     ]
    },
    {
     "name": "stdout",
     "output_type": "stream",
     "text": [
      "2.96702\n2.97885\n2.98478\n2.98775\n2.98924\n"
     ]
    },
    {
     "name": "stdout",
     "output_type": "stream",
     "text": [
      "2.98999\n2.99036\n2.99055\n2.99064\n2.99069\n2.99071\n2.99072\n"
     ]
    },
    {
     "name": "stdout",
     "output_type": "stream",
     "text": [
      "2.99073\n2.99073\n2.99074\n2.99074\n"
     ]
    },
    {
     "name": "stdout",
     "output_type": "stream",
     "text": [
      "2.99074\n2.99074\n2.99074\n2.99074\n"
     ]
    },
    {
     "name": "stdout",
     "output_type": "stream",
     "text": [
      "2.99074\n2.99074\n2.99074\n2.99074\n"
     ]
    },
    {
     "name": "stdout",
     "output_type": "stream",
     "text": [
      "2.99074\n2.99074\n2.99074\n2.99074\n"
     ]
    },
    {
     "name": "stdout",
     "output_type": "stream",
     "text": [
      "2.99074\n2.99074\n2.99074\n2.99074\n"
     ]
    },
    {
     "name": "stdout",
     "output_type": "stream",
     "text": [
      "2.99074\n2.99074\n2.99074\n"
     ]
    },
    {
     "name": "stdout",
     "output_type": "stream",
     "text": [
      "2.99074\n2.99074\n2.99074\n2.99074\n2.99074\n"
     ]
    },
    {
     "name": "stdout",
     "output_type": "stream",
     "text": [
      "2.99074\n2.99074\n2.99074\n2.99074\n2.99074\n"
     ]
    },
    {
     "name": "stdout",
     "output_type": "stream",
     "text": [
      "2.99074\n2.99074\n2.99074\n2.99074\n2.99074\n"
     ]
    },
    {
     "name": "stdout",
     "output_type": "stream",
     "text": [
      "2.99074\n2.99074\n2.99074\n2.99074\n2.99074\n2.99074\n"
     ]
    },
    {
     "name": "stdout",
     "output_type": "stream",
     "text": [
      "2.99074\n2.99074\n2.99074\n2.99074\n2.99074\n2.99074\n"
     ]
    },
    {
     "name": "stdout",
     "output_type": "stream",
     "text": [
      "2.99074\n2.99074\n2.99074\n2.99074\n2.99074\n2.99074\n"
     ]
    },
    {
     "name": "stdout",
     "output_type": "stream",
     "text": [
      "2.99074\n2.99074\n2.99074\n2.99074\n"
     ]
    },
    {
     "name": "stdout",
     "output_type": "stream",
     "text": [
      "2.99074\n2.99074\n2.99074\n2.99074\n2.99074\n2.99074\n"
     ]
    },
    {
     "name": "stdout",
     "output_type": "stream",
     "text": [
      "2.99074\n2.99074\n2.99074\n2.99074\n2.99074\n2.99074\n2.99074\n"
     ]
    },
    {
     "name": "stdout",
     "output_type": "stream",
     "text": [
      "2.99074\n2.99074\n2.99074\n2.99074\n2.99074\n2.99074\n2.99074\n"
     ]
    },
    {
     "name": "stdout",
     "output_type": "stream",
     "text": [
      "2.99074\n2.99074\n"
     ]
    }
   ],
   "source": [
    "init_op = tf.global_variables_initializer()\n",
    "\n",
    "with tf.Session() as sess:\n",
    "    sess.run(init_op)\n",
    "    for i in range(100):\n",
    "        for (x, y) in zip(trainX, trainY):\n",
    "            sess.run(train_op, feed_dict={X: x, Y: y})\n",
    "        print(sess.run(w))"
   ]
  },
  {
   "cell_type": "code",
   "execution_count": 9,
   "metadata": {},
   "outputs": [
    {
     "name": "stdout",
     "output_type": "stream",
     "text": [
      "0.0\n"
     ]
    }
   ],
   "source": [
    "with tf.Session() as sess:\n",
    "    sess.run(init_op)\n",
    "    print(sess.run(w))"
   ]
  },
  {
   "cell_type": "code",
   "execution_count": null,
   "metadata": {},
   "outputs": [],
   "source": []
  }
 ],
 "metadata": {
  "kernelspec": {
   "display_name": "Python 2",
   "language": "python",
   "name": "python2"
  },
  "language_info": {
   "codemirror_mode": {
    "name": "ipython",
    "version": 2
   },
   "file_extension": ".py",
   "mimetype": "text/x-python",
   "name": "python",
   "nbconvert_exporter": "python",
   "pygments_lexer": "ipython2",
   "version": "2.7.6"
  }
 },
 "nbformat": 4,
 "nbformat_minor": 0
}
